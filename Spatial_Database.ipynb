{
 "cells": [
  {
   "cell_type": "markdown",
   "id": "1cff22df-66bc-44c4-8620-cd7a1f5be25c",
   "metadata": {},
   "source": [
    "# Spatial Database\n",
    "\n",
    "- sudo apt update\n",
    "- sudo apt install postgis\n",
    "- apt list --installed | grep postgis\n",
    "- CREATE EXTENSION postgis;\n",
    "\n"
   ]
  },
  {
   "cell_type": "code",
   "execution_count": null,
   "id": "1dbb4372-c50d-426e-8712-02e9f1ed743d",
   "metadata": {},
   "outputs": [],
   "source": []
  }
 ],
 "metadata": {
  "kernelspec": {
   "display_name": "Python 3 (ipykernel)",
   "language": "python",
   "name": "python3"
  },
  "language_info": {
   "codemirror_mode": {
    "name": "ipython",
    "version": 3
   },
   "file_extension": ".py",
   "mimetype": "text/x-python",
   "name": "python",
   "nbconvert_exporter": "python",
   "pygments_lexer": "ipython3",
   "version": "3.10.12"
  }
 },
 "nbformat": 4,
 "nbformat_minor": 5
}
